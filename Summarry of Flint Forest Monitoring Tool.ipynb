{
 "cells": [
  {
   "cell_type": "markdown",
   "metadata": {},
   "source": [
    "## Summary of my Contribution to the FLINT Forest Monetary Tool"
   ]
  },
  {
   "cell_type": "markdown",
   "metadata": {},
   "source": [
    "### INTRODUCTION"
   ]
  },
  {
   "cell_type": "markdown",
   "metadata": {},
   "source": [
    "My country of interest was Kenya. I worked on the administration, ecological zone and forests. Gave a brief introduction about Kenya, it’s capital city and its geographical features. I also included the purpose of Sustainable Development Goal in Kenya."
   ]
  },
  {
   "cell_type": "markdown",
   "metadata": {},
   "source": [
    "### REPOSITORIES"
   ]
  },
  {
   "cell_type": "markdown",
   "metadata": {},
   "source": [
    "Import libraries needed to load and read the dataframe"
   ]
  },
  {
   "cell_type": "markdown",
   "metadata": {},
   "source": [
    "### ADMINISTRATION"
   ]
  },
  {
   "cell_type": "markdown",
   "metadata": {},
   "source": [
    "I mainly focused on Kenya’s boundary.\n",
    "I followed the following steps to extract comprehensive report on Kenya’s boundary:\n",
    "1.\tLoad Kenya’s admin boundary and read the file.\n",
    "2.\tLoad kenya’S state boundary and read the file.\n",
    "3.\tCheck all column titles,information and coordinate systems.\n",
    "4.\tUsed the following code to define and plot the boundaries\n"
   ]
  },
  {
   "cell_type": "code",
   "execution_count": null,
   "metadata": {},
   "outputs": [],
   "source": [
    "fig, ax1 = plt.subplots( figsize=(20, 15))\n",
    "ken_statesdm.plot(ax=ax1,color = \"red\", legend=True, column = \"gez_name\" , edgecolor = \"black\",cmap = \"tab20\")\n",
    "plt.title(\"ADMINISTRATIVE BOUNDARY FOR ALL PROVINCES IN KENYA\")"
   ]
  },
  {
   "cell_type": "markdown",
   "metadata": {},
   "source": [
    "### ECOLOGICAL ZONES"
   ]
  },
  {
   "cell_type": "markdown",
   "metadata": {},
   "source": [
    "I followed the following steps to extract comprehensive report on Kenya’s ecological zones:\n",
    "1.\tLoad Kenya’s ecological zone data and read the file.\n",
    "2.\tLoad all states ecological zones and read the file.\n",
    "3.\tCheck all column titles, information, coordinate systems and unique values and counts for all the states.\n",
    "4.\tUsed the following code to plot ecological zones for all the states.\n"
   ]
  },
  {
   "cell_type": "code",
   "execution_count": null,
   "metadata": {},
   "outputs": [],
   "source": [
    "fig, ax1 = plt.subplots( figsize=(20, 15))\n",
    "ken_statesdm.plot(ax=ax1, legend=True, column = \"gez_name\" , legend_kwds={\"bbox_to_anchor\": (1, 1), \"loc\": \"upper left\"}, edgecolor = \"black\",cmap = \"tab20\")\n",
    "plt.title(\"ECOLOGICAL ZONES FOR ALL STATES IN KENYA\")"
   ]
  },
  {
   "cell_type": "markdown",
   "metadata": {},
   "source": [
    "### FOREST"
   ]
  },
  {
   "cell_type": "markdown",
   "metadata": {},
   "source": [
    "I followed the following steps to extract comprehensive report on Kenya’s forests.\n",
    "1.\tLoad Kenya’s forest data and read the file.\n",
    "2.\tCheck all column titles, information, coordinate systems and unique values and counts.\n",
    "3.\tUsed the following code to plot planted forest by common name, species and plantation.\n"
   ]
  },
  {
   "cell_type": "code",
   "execution_count": null,
   "metadata": {},
   "outputs": [],
   "source": [
    "enstate = gpd.read_file(r\"c:\\OUTREACHY\\Kenya_SDG\\KEN_ALL_states_GEZ.json\")\n",
    "fig, (ax1, ax2, ax3) = plt.subplots(1, 3, figsize=(20, 15))\n",
    "\n",
    "base1 = kenstate.plot(color='white', edgecolor='black', ax=ax1)\n",
    "ken_forest.plot(ax=base1, column='plant_ag', legend=True)\n",
    "ax1.set_title(\"Plant forest\")\n",
    "\n",
    "# Plot for 'common_name' column\n",
    "base2 = kenstate.plot(color='white', edgecolor='black', ax=ax2)\n",
    "ken_forest.plot(ax=base2, column='common_name', legend=True)\n",
    "ax2.set_title(\"Common Names\")\n",
    "\n",
    "# Plot for 'species' column\n",
    "base3 = kenstate.plot(color='white', edgecolor='black', ax=ax3)\n",
    "ken_forest.plot(ax=base3, column='species', legend=True)\n",
    "ax3.set_title(\"Species\")"
   ]
  },
  {
   "cell_type": "markdown",
   "metadata": {},
   "source": [
    "### TERRESTIAL ECOREGION"
   ]
  },
  {
   "cell_type": "markdown",
   "metadata": {},
   "source": [
    "I followed the following steps to extract comprehensive report on Kenya’s terrestial ecoregions.\n",
    "1.\tLoad Kenya’s terrestial ecoregion data and read the file.\n",
    "2.\tCheck all column titles, information, coordinate systems and unique values and counts.\n",
    "3.\tUsed the following code to plot terrestial ecoregions\n"
   ]
  },
  {
   "cell_type": "code",
   "execution_count": null,
   "metadata": {},
   "outputs": [],
   "source": [
    "fig, ax = plt.subplots(figsize=(12, 8))\n",
    "ken_ecoregion.plot(ax=ax, cmap=\"tab20\", column=\"ECO_NAME\", legend=True,legend_kwds={\"bbox_to_anchor\": (1, 1), \"loc\": \"upper left\"}, edgecolor=\"black\")\n",
    "ax.set_title(\"ECOREGIONS IN KENYA\")"
   ]
  },
  {
   "cell_type": "markdown",
   "metadata": {},
   "source": [
    "### conclusion"
   ]
  },
  {
   "cell_type": "markdown",
   "metadata": {},
   "source": [
    "Regarding forests and tree crops, a notable pattern emerges, with central regions stretching to western Kenya serving as primary locations for planted forests and tree crop cultivation. This concentration suggests favorable environmental conditions, human intervention, and economic incentives driving forest plantation activities in these areas.\n",
    "Overall, these observations provide valuable insights into the distribution and dynamics of ecological zones, forests, and terrestrial ecoregions in Kenya. Understanding these patterns is essential for informed decision-making, conservation planning, and sustainable management of natural resources in the country."
   ]
  }
 ],
 "metadata": {
  "kernelspec": {
   "display_name": "Python 3",
   "language": "python",
   "name": "python3"
  },
  "language_info": {
   "name": "python",
   "version": "3.11.7"
  }
 },
 "nbformat": 4,
 "nbformat_minor": 2
}
